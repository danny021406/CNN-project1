{
 "cells": [
  {
   "cell_type": "code",
   "execution_count": 1,
   "metadata": {},
   "outputs": [],
   "source": [
    "import numpy as np # linear algebra\n",
    "import matplotlib.pyplot as plt\n",
    "%matplotlib inline\n",
    "from sklearn.model_selection import train_test_split\n",
    "from sklearn.metrics import confusion_matrix\n",
    "import cv2\n",
    "import os"
   ]
  },
  {
   "cell_type": "code",
   "execution_count": 2,
   "metadata": {},
   "outputs": [
    {
     "name": "stderr",
     "output_type": "stream",
     "text": [
      "Using TensorFlow backend.\n",
      "/usr/local/lib/python3.5/dist-packages/tensorflow/python/framework/dtypes.py:523: FutureWarning: Passing (type, 1) or '1type' as a synonym of type is deprecated; in a future version of numpy, it will be understood as (type, (1,)) / '(1,)type'.\n",
      "  _np_qint8 = np.dtype([(\"qint8\", np.int8, 1)])\n",
      "/usr/local/lib/python3.5/dist-packages/tensorflow/python/framework/dtypes.py:524: FutureWarning: Passing (type, 1) or '1type' as a synonym of type is deprecated; in a future version of numpy, it will be understood as (type, (1,)) / '(1,)type'.\n",
      "  _np_quint8 = np.dtype([(\"quint8\", np.uint8, 1)])\n",
      "/usr/local/lib/python3.5/dist-packages/tensorflow/python/framework/dtypes.py:525: FutureWarning: Passing (type, 1) or '1type' as a synonym of type is deprecated; in a future version of numpy, it will be understood as (type, (1,)) / '(1,)type'.\n",
      "  _np_qint16 = np.dtype([(\"qint16\", np.int16, 1)])\n",
      "/usr/local/lib/python3.5/dist-packages/tensorflow/python/framework/dtypes.py:526: FutureWarning: Passing (type, 1) or '1type' as a synonym of type is deprecated; in a future version of numpy, it will be understood as (type, (1,)) / '(1,)type'.\n",
      "  _np_quint16 = np.dtype([(\"quint16\", np.uint16, 1)])\n",
      "/usr/local/lib/python3.5/dist-packages/tensorflow/python/framework/dtypes.py:527: FutureWarning: Passing (type, 1) or '1type' as a synonym of type is deprecated; in a future version of numpy, it will be understood as (type, (1,)) / '(1,)type'.\n",
      "  _np_qint32 = np.dtype([(\"qint32\", np.int32, 1)])\n",
      "/usr/local/lib/python3.5/dist-packages/tensorflow/python/framework/dtypes.py:532: FutureWarning: Passing (type, 1) or '1type' as a synonym of type is deprecated; in a future version of numpy, it will be understood as (type, (1,)) / '(1,)type'.\n",
      "  np_resource = np.dtype([(\"resource\", np.ubyte, 1)])\n"
     ]
    }
   ],
   "source": [
    "from keras.utils.np_utils import to_categorical # convert to one-hot-encoding\n",
    "from keras.models import Sequential\n",
    "from keras.layers import Dense, Dropout, Flatten, Conv2D, MaxPool2D, BatchNormalization\n",
    "from keras.optimizers import Adam\n",
    "from keras.preprocessing.image import ImageDataGenerator\n",
    "from keras.callbacks import LearningRateScheduler\n",
    "from sklearn import preprocessing"
   ]
  },
  {
   "cell_type": "code",
   "execution_count": 3,
   "metadata": {},
   "outputs": [
    {
     "name": "stdout",
     "output_type": "stream",
     "text": [
      "office\n",
      "opencountry\n",
      "forest\n",
      "insidecity\n",
      "bedroom\n",
      "livingroom\n",
      "suburb\n",
      "tallbuilding\n",
      "coast\n",
      "mountain\n",
      "kitchen\n",
      "street\n",
      "highway\n"
     ]
    }
   ],
   "source": [
    "train_data = []\n",
    "target_data = []\n",
    "dataset_path = \"./dataset/train\"\n",
    "cat = os.listdir(dataset_path)\n",
    "for c in cat:\n",
    "    print(c)\n",
    "    cat_path = os.path.join(dataset_path, c)\n",
    "    filenames = os.listdir(cat_path)\n",
    "    for f in filenames:\n",
    "        image_path = cat_path + '/'+ f\n",
    "        # Gray\n",
    "        image = cv2.imread(image_path)\n",
    "        image = cv2.resize(image, (256, 256), interpolation=cv2.INTER_CUBIC)\n",
    "        image = image.reshape(256, 256, 3)\n",
    "        train_data.append(image)\n",
    "        target_data.append(c)\n",
    "        "
   ]
  },
  {
   "cell_type": "code",
   "execution_count": 4,
   "metadata": {},
   "outputs": [
    {
     "data": {
      "image/png": "[encoded data removed]",
      "text/plain": [
       "<Figure size 432x288 with 1 Axes>"
      ]
     },
     "metadata": {
      "needs_background": "light"
     },
     "output_type": "display_data"
    }
   ],
   "source": [
    "unique, counts = np.unique(target_data, return_counts=True)\n",
    "plt.bar(unique, counts)\n",
    "\n",
    "plt.title('Class Frequency')\n",
    "plt.xlabel('Class')\n",
    "plt.ylabel('Frequency')\n",
    "\n",
    "plt.show()"
   ]
  },
  {
   "cell_type": "code",
   "execution_count": 5,
   "metadata": {},
   "outputs": [],
   "source": [
    "le = preprocessing.LabelEncoder()\n",
    "le.fit(target_data)\n",
    "target_data = le.transform(target_data)\n",
    "x_train, x_val, y_train, y_val = train_test_split(\n",
    "    train_data, target_data, test_size=0.05)"
   ]
  },
  {
   "cell_type": "code",
   "execution_count": 6,
   "metadata": {},
   "outputs": [],
   "source": [
    "y_train = to_categorical(y_train, num_classes=13)\n",
    "y_val = to_categorical(y_val, num_classes=13)"
   ]
  },
  {
   "cell_type": "code",
   "execution_count": 7,
   "metadata": {},
   "outputs": [],
   "source": [
    "x_train = np.array(x_train)\n",
    "x_val = np.array(x_val)"
   ]
  },
  {
   "cell_type": "code",
   "execution_count": 8,
   "metadata": {
    "scrolled": false
   },
   "outputs": [
    {
     "name": "stdout",
     "output_type": "stream",
     "text": [
      "Model: \"model_1\"\n",
      "__________________________________________________________________________________________________\n",
      "Layer (type)                    Output Shape         Param #     Connected to                     \n",
      "==================================================================================================\n",
      "input_1 (InputLayer)            (None, 256, 256, 3)  0                                            \n",
      "__________________________________________________________________________________________________\n",
      "zero_padding2d_1 (ZeroPadding2D (None, 262, 262, 3)  0           input_1[0][0]                    \n",
      "__________________________________________________________________________________________________\n",
      "conv2d_1 (Conv2D)               (None, 128, 128, 64) 9472        zero_padding2d_1[0][0]           \n",
      "__________________________________________________________________________________________________\n",
      "batch_normalization_1 (BatchNor (None, 128, 128, 64) 256         conv2d_1[0][0]                   \n",
      "__________________________________________________________________________________________________\n",
      "max_pooling2d_1 (MaxPooling2D)  (None, 64, 64, 64)   0           batch_normalization_1[0][0]      \n",
      "__________________________________________________________________________________________________\n",
      "conv2d_2 (Conv2D)               (None, 64, 64, 64)   4160        max_pooling2d_1[0][0]            \n",
      "__________________________________________________________________________________________________\n",
      "batch_normalization_2 (BatchNor (None, 64, 64, 64)   256         conv2d_2[0][0]                   \n",
      "__________________________________________________________________________________________________\n",
      "conv2d_3 (Conv2D)               (None, 64, 64, 64)   36928       batch_normalization_2[0][0]      \n",
      "__________________________________________________________________________________________________\n",
      "batch_normalization_3 (BatchNor (None, 64, 64, 64)   256         conv2d_3[0][0]                   \n",
      "__________________________________________________________________________________________________\n",
      "conv2d_4 (Conv2D)               (None, 64, 64, 256)  16640       batch_normalization_3[0][0]      \n",
      "__________________________________________________________________________________________________\n",
      "conv2d_5 (Conv2D)               (None, 64, 64, 256)  147712      max_pooling2d_1[0][0]            \n",
      "__________________________________________________________________________________________________\n",
      "batch_normalization_4 (BatchNor (None, 64, 64, 256)  1024        conv2d_4[0][0]                   \n",
      "__________________________________________________________________________________________________\n",
      "batch_normalization_5 (BatchNor (None, 64, 64, 256)  1024        conv2d_5[0][0]                   \n",
      "__________________________________________________________________________________________________\n",
      "add_1 (Add)                     (None, 64, 64, 256)  0           batch_normalization_4[0][0]      \n",
      "                                                                 batch_normalization_5[0][0]      \n",
      "__________________________________________________________________________________________________\n",
      "conv2d_6 (Conv2D)               (None, 64, 64, 64)   16448       add_1[0][0]                      \n",
      "__________________________________________________________________________________________________\n",
      "batch_normalization_6 (BatchNor (None, 64, 64, 64)   256         conv2d_6[0][0]                   \n",
      "__________________________________________________________________________________________________\n",
      "conv2d_7 (Conv2D)               (None, 64, 64, 64)   36928       batch_normalization_6[0][0]      \n",
      "__________________________________________________________________________________________________\n",
      "batch_normalization_7 (BatchNor (None, 64, 64, 64)   256         conv2d_7[0][0]                   \n",
      "__________________________________________________________________________________________________\n",
      "conv2d_8 (Conv2D)               (None, 64, 64, 256)  16640       batch_normalization_7[0][0]      \n",
      "__________________________________________________________________________________________________\n",
      "batch_normalization_8 (BatchNor (None, 64, 64, 256)  1024        conv2d_8[0][0]                   \n",
      "__________________________________________________________________________________________________\n",
      "add_2 (Add)                     (None, 64, 64, 256)  0           batch_normalization_8[0][0]      \n",
      "                                                                 add_1[0][0]                      \n",
      "__________________________________________________________________________________________________\n",
      "conv2d_9 (Conv2D)               (None, 32, 32, 128)  32896       add_2[0][0]                      \n",
      "__________________________________________________________________________________________________\n",
      "batch_normalization_9 (BatchNor (None, 32, 32, 128)  512         conv2d_9[0][0]                   \n",
      "__________________________________________________________________________________________________\n",
      "conv2d_10 (Conv2D)              (None, 32, 32, 128)  147584      batch_normalization_9[0][0]      \n",
      "__________________________________________________________________________________________________\n",
      "batch_normalization_10 (BatchNo (None, 32, 32, 128)  512         conv2d_10[0][0]                  \n",
      "__________________________________________________________________________________________________\n",
      "conv2d_11 (Conv2D)              (None, 32, 32, 512)  66048       batch_normalization_10[0][0]     \n",
      "__________________________________________________________________________________________________\n",
      "conv2d_12 (Conv2D)              (None, 32, 32, 512)  1180160     add_2[0][0]                      \n",
      "__________________________________________________________________________________________________\n",
      "batch_normalization_11 (BatchNo (None, 32, 32, 512)  2048        conv2d_11[0][0]                  \n",
      "__________________________________________________________________________________________________\n",
      "batch_normalization_12 (BatchNo (None, 32, 32, 512)  2048        conv2d_12[0][0]                  \n",
      "__________________________________________________________________________________________________\n",
      "add_3 (Add)                     (None, 32, 32, 512)  0           batch_normalization_11[0][0]     \n",
      "                                                                 batch_normalization_12[0][0]     \n",
      "__________________________________________________________________________________________________\n",
      "conv2d_13 (Conv2D)              (None, 32, 32, 128)  65664       add_3[0][0]                      \n",
      "__________________________________________________________________________________________________\n",
      "batch_normalization_13 (BatchNo (None, 32, 32, 128)  512         conv2d_13[0][0]                  \n",
      "__________________________________________________________________________________________________\n",
      "conv2d_14 (Conv2D)              (None, 32, 32, 128)  147584      batch_normalization_13[0][0]     \n",
      "__________________________________________________________________________________________________\n",
      "batch_normalization_14 (BatchNo (None, 32, 32, 128)  512         conv2d_14[0][0]                  \n",
      "__________________________________________________________________________________________________\n",
      "conv2d_15 (Conv2D)              (None, 32, 32, 512)  66048       batch_normalization_14[0][0]     \n",
      "__________________________________________________________________________________________________\n",
      "batch_normalization_15 (BatchNo (None, 32, 32, 512)  2048        conv2d_15[0][0]                  \n",
      "__________________________________________________________________________________________________\n",
      "add_4 (Add)                     (None, 32, 32, 512)  0           batch_normalization_15[0][0]     \n",
      "                                                                 add_3[0][0]                      \n",
      "__________________________________________________________________________________________________\n",
      "conv2d_16 (Conv2D)              (None, 32, 32, 128)  65664       add_4[0][0]                      \n",
      "__________________________________________________________________________________________________\n",
      "batch_normalization_16 (BatchNo (None, 32, 32, 128)  512         conv2d_16[0][0]                  \n",
      "__________________________________________________________________________________________________\n",
      "conv2d_17 (Conv2D)              (None, 32, 32, 128)  147584      batch_normalization_16[0][0]     \n",
      "__________________________________________________________________________________________________\n",
      "batch_normalization_17 (BatchNo (None, 32, 32, 128)  512         conv2d_17[0][0]                  \n",
      "__________________________________________________________________________________________________\n",
      "conv2d_18 (Conv2D)              (None, 32, 32, 512)  66048       batch_normalization_17[0][0]     \n",
      "__________________________________________________________________________________________________\n",
      "batch_normalization_18 (BatchNo (None, 32, 32, 512)  2048        conv2d_18[0][0]                  \n",
      "__________________________________________________________________________________________________\n",
      "add_5 (Add)                     (None, 32, 32, 512)  0           batch_normalization_18[0][0]     \n",
      "                                                                 add_4[0][0]                      \n",
      "__________________________________________________________________________________________________\n",
      "conv2d_19 (Conv2D)              (None, 16, 16, 256)  131328      add_5[0][0]                      \n",
      "__________________________________________________________________________________________________\n",
      "batch_normalization_19 (BatchNo (None, 16, 16, 256)  1024        conv2d_19[0][0]                  \n",
      "__________________________________________________________________________________________________\n",
      "conv2d_20 (Conv2D)              (None, 16, 16, 256)  590080      batch_normalization_19[0][0]     \n",
      "__________________________________________________________________________________________________\n",
      "batch_normalization_20 (BatchNo (None, 16, 16, 256)  1024        conv2d_20[0][0]                  \n",
      "__________________________________________________________________________________________________\n",
      "conv2d_21 (Conv2D)              (None, 16, 16, 1024) 263168      batch_normalization_20[0][0]     \n",
      "__________________________________________________________________________________________________\n",
      "conv2d_22 (Conv2D)              (None, 16, 16, 1024) 4719616     add_5[0][0]                      \n",
      "__________________________________________________________________________________________________\n",
      "batch_normalization_21 (BatchNo (None, 16, 16, 1024) 4096        conv2d_21[0][0]                  \n",
      "__________________________________________________________________________________________________\n",
      "batch_normalization_22 (BatchNo (None, 16, 16, 1024) 4096        conv2d_22[0][0]                  \n",
      "__________________________________________________________________________________________________\n",
      "add_6 (Add)                     (None, 16, 16, 1024) 0           batch_normalization_21[0][0]     \n",
      "                                                                 batch_normalization_22[0][0]     \n",
      "__________________________________________________________________________________________________\n",
      "conv2d_23 (Conv2D)              (None, 16, 16, 256)  262400      add_6[0][0]                      \n",
      "__________________________________________________________________________________________________\n",
      "batch_normalization_23 (BatchNo (None, 16, 16, 256)  1024        conv2d_23[0][0]                  \n",
      "__________________________________________________________________________________________________\n",
      "conv2d_24 (Conv2D)              (None, 16, 16, 256)  590080      batch_normalization_23[0][0]     \n",
      "__________________________________________________________________________________________________\n",
      "batch_normalization_24 (BatchNo (None, 16, 16, 256)  1024        conv2d_24[0][0]                  \n",
      "__________________________________________________________________________________________________\n",
      "conv2d_25 (Conv2D)              (None, 16, 16, 1024) 263168      batch_normalization_24[0][0]     \n",
      "__________________________________________________________________________________________________\n",
      "batch_normalization_25 (BatchNo (None, 16, 16, 1024) 4096        conv2d_25[0][0]                  \n",
      "__________________________________________________________________________________________________\n",
      "add_7 (Add)                     (None, 16, 16, 1024) 0           batch_normalization_25[0][0]     \n",
      "                                                                 add_6[0][0]                      \n",
      "__________________________________________________________________________________________________\n",
      "conv2d_26 (Conv2D)              (None, 16, 16, 256)  262400      add_7[0][0]                      \n",
      "__________________________________________________________________________________________________\n",
      "batch_normalization_26 (BatchNo (None, 16, 16, 256)  1024        conv2d_26[0][0]                  \n",
      "__________________________________________________________________________________________________\n",
      "conv2d_27 (Conv2D)              (None, 16, 16, 256)  590080      batch_normalization_26[0][0]     \n",
      "__________________________________________________________________________________________________\n",
      "batch_normalization_27 (BatchNo (None, 16, 16, 256)  1024        conv2d_27[0][0]                  \n",
      "__________________________________________________________________________________________________\n",
      "conv2d_28 (Conv2D)              (None, 16, 16, 1024) 263168      batch_normalization_27[0][0]     \n",
      "__________________________________________________________________________________________________\n",
      "batch_normalization_28 (BatchNo (None, 16, 16, 1024) 4096        conv2d_28[0][0]                  \n",
      "__________________________________________________________________________________________________\n",
      "add_8 (Add)                     (None, 16, 16, 1024) 0           batch_normalization_28[0][0]     \n",
      "                                                                 add_7[0][0]                      \n",
      "__________________________________________________________________________________________________\n",
      "average_pooling2d_1 (AveragePoo (None, 2, 2, 1024)   0           add_8[0][0]                      \n",
      "__________________________________________________________________________________________________\n",
      "flatten_1 (Flatten)             (None, 4096)         0           average_pooling2d_1[0][0]        \n",
      "__________________________________________________________________________________________________\n",
      "dense_1 (Dense)                 (None, 512)          2097664     flatten_1[0][0]                  \n",
      "__________________________________________________________________________________________________\n",
      "dropout_1 (Dropout)             (None, 512)          0           dense_1[0][0]                    \n",
      "__________________________________________________________________________________________________\n",
      "dense_2 (Dense)                 (None, 128)          65664       dropout_1[0][0]                  \n",
      "__________________________________________________________________________________________________\n",
      "dense_3 (Dense)                 (None, 13)           1677        dense_2[0][0]                    \n",
      "==================================================================================================\n",
      "Total params: 12,408,845\n",
      "Trainable params: 12,389,773\n",
      "Non-trainable params: 19,072\n",
      "__________________________________________________________________________________________________\n",
      "0\n"
     ]
    }
   ],
   "source": [
    "#coding=utf-8\n",
    "# Resnet 50\n",
    "from keras.models import clone_model\n",
    "from keras.models import Model\n",
    "from keras.layers import Input,Dense,BatchNormalization,Conv2D,MaxPooling2D,AveragePooling2D,ZeroPadding2D,GlobalAveragePooling2D\n",
    "from keras.layers import add,Flatten\n",
    "#from keras.layers.convolutional import Conv2D,MaxPooling2D,AveragePooling2D\n",
    "from keras.optimizers import SGD\n",
    "import numpy as np\n",
    "seed = 7\n",
    "np.random.seed(seed)\n",
    " \n",
    "def Conv2d_BN(x, nb_filter,kernel_size, strides=(1,1), padding='same',name=None):\n",
    "    if name is not None:\n",
    "        bn_name = name + '_bn'\n",
    "        conv_name = name + '_conv'\n",
    "    else:\n",
    "        bn_name = None\n",
    "        conv_name = None\n",
    " \n",
    "    x = Conv2D(nb_filter,kernel_size,padding=padding,strides=strides,activation='relu',name=conv_name)(x)\n",
    "    x = BatchNormalization(axis=3,name=bn_name)(x)\n",
    "    return x\n",
    " \n",
    "def Conv_Block(inpt,nb_filter,kernel_size,strides=(1,1), with_conv_shortcut=False):\n",
    "    x = Conv2d_BN(inpt,nb_filter=nb_filter[0],kernel_size=(1,1),strides=strides,padding='same')\n",
    "    x = Conv2d_BN(x, nb_filter=nb_filter[1], kernel_size=(3,3), padding='same')\n",
    "    x = Conv2d_BN(x, nb_filter=nb_filter[2], kernel_size=(1,1), padding='same')\n",
    "    if with_conv_shortcut:\n",
    "        shortcut = Conv2d_BN(inpt,nb_filter=nb_filter[2],strides=strides,kernel_size=kernel_size)\n",
    "        x = add([x,shortcut])\n",
    "        return x\n",
    "    else:\n",
    "        x = add([x,inpt])\n",
    "        return x\n",
    "\n",
    "inpt = Input(shape=(256,256,3))\n",
    "x = ZeroPadding2D((3,3))(inpt)\n",
    "x = Conv2d_BN(x,nb_filter=64,kernel_size=(7,7),strides=(2,2),padding='valid')\n",
    "x = MaxPooling2D(pool_size=(3,3),strides=(2,2),padding='same')(x)\n",
    " \n",
    "x = Conv_Block(x,nb_filter=[64,64,256],kernel_size=(3,3),strides=(1,1),with_conv_shortcut=True)\n",
    "x = Conv_Block(x,nb_filter=[64,64,256],kernel_size=(3,3))\n",
    " \n",
    "x = Conv_Block(x,nb_filter=[128,128,512],kernel_size=(3,3),strides=(2,2),with_conv_shortcut=True)\n",
    "x = Conv_Block(x,nb_filter=[128,128,512],kernel_size=(3,3))\n",
    "x = Conv_Block(x,nb_filter=[128,128,512],kernel_size=(3,3))\n",
    " \n",
    "x = Conv_Block(x,nb_filter=[256,256,1024],kernel_size=(3,3),strides=(2,2),with_conv_shortcut=True)\n",
    "x = Conv_Block(x,nb_filter=[256,256,1024],kernel_size=(3,3))\n",
    "x = Conv_Block(x,nb_filter=[256,256,1024],kernel_size=(3,3))\n",
    "# x = Conv_Block(x,nb_filter=[256,256,1024],kernel_size=(3,3))\n",
    "# x = Conv_Block(x,nb_filter=[256,256,1024],kernel_size=(3,3))\n",
    " \n",
    "# x = Conv_Block(x,nb_filter=[512,512,2048],kernel_size=(3,3),strides=(2,2),with_conv_shortcut=True)\n",
    "# x = Conv_Block(x,nb_filter=[512,512,2048],kernel_size=(3,3))\n",
    "# x = Conv_Block(x,nb_filter=[512,512,2048],kernel_size=(3,3))\n",
    "x = AveragePooling2D(pool_size=(7,7))(x)\n",
    "# x = GlobalAveragePooling2D()(x)\n",
    "x = Flatten()(x)\n",
    "x = Dense(512,activation='relu')(x)\n",
    "x = Dropout(0.3)(x)\n",
    "x = Dense(128,activation='relu')(x)\n",
    "# x = Dropout(0.3)(x)\n",
    "# x = Dense(500,activation='relu')(x)\n",
    "x = Dense(13,activation='softmax')(x)\n",
    " \n",
    "model = Model(inputs=inpt,outputs=x)\n",
    "sgd = SGD(decay=0.0001,momentum=0.9)\n",
    "model.compile(loss='categorical_crossentropy',optimizer=sgd,metrics=['accuracy'])\n",
    "model.summary()\n",
    "\n",
    "model_arr = []\n",
    "model_count = 1\n",
    "for i in range(model_count):\n",
    "    print(i)\n",
    "    model_tmp = clone_model(model)\n",
    "    model_tmp.compile(loss='categorical_crossentropy',optimizer=sgd,metrics=['accuracy'])\n",
    "    model_arr.append(model_tmp)\n"
   ]
  },
  {
   "cell_type": "code",
   "execution_count": 9,
   "metadata": {},
   "outputs": [],
   "source": [
    "from keras.applications.resnet import preprocess_input\n",
    "datagen = ImageDataGenerator(horizontal_flip=True, preprocessing_function=preprocess_input)"
   ]
  },
  {
   "cell_type": "code",
   "execution_count": 10,
   "metadata": {},
   "outputs": [
    {
     "data": {
      "text/plain": [
       "1"
      ]
     },
     "execution_count": 10,
     "metadata": {},
     "output_type": "execute_result"
    }
   ],
   "source": [
    "len(model_arr)"
   ]
  },
  {
   "cell_type": "code",
   "execution_count": 11,
   "metadata": {},
   "outputs": [],
   "source": [
    "\n",
    "# from keras.applications.vgg16 import preprocess_input\n",
    "from keras.applications.resnet import preprocess_input\n",
    "x_train_ = preprocess_input(x_train)\n",
    "x_val_ = preprocess_input(x_val)"
   ]
  },
  {
   "cell_type": "code",
   "execution_count": 12,
   "metadata": {},
   "outputs": [
    {
     "name": "stdout",
     "output_type": "stream",
     "text": [
      "Epoch 1/25\n",
      "500/500 [==============================] - 58s 116ms/step - loss: 2.2810 - acc: 0.2580 - val_loss: 2.0401 - val_acc: 0.3475\n",
      "Epoch 2/25\n",
      "500/500 [==============================] - 45s 90ms/step - loss: 1.6238 - acc: 0.4767 - val_loss: 1.6433 - val_acc: 0.4823\n",
      "Epoch 3/25\n",
      "500/500 [==============================] - 44s 89ms/step - loss: 1.2558 - acc: 0.5780 - val_loss: 1.2405 - val_acc: 0.6028\n",
      "Epoch 4/25\n",
      "500/500 [==============================] - 44s 89ms/step - loss: 0.9652 - acc: 0.6754 - val_loss: 0.9896 - val_acc: 0.6950\n",
      "Epoch 5/25\n",
      "500/500 [==============================] - 44s 89ms/step - loss: 0.7795 - acc: 0.7419 - val_loss: 1.1224 - val_acc: 0.6454\n",
      "Epoch 6/25\n",
      "500/500 [==============================] - 44s 89ms/step - loss: 0.6373 - acc: 0.7885 - val_loss: 0.9921 - val_acc: 0.7092\n",
      "Epoch 7/25\n",
      "500/500 [==============================] - 45s 89ms/step - loss: 0.5030 - acc: 0.8350 - val_loss: 1.0001 - val_acc: 0.6879\n",
      "Epoch 8/25\n",
      "500/500 [==============================] - 44s 89ms/step - loss: 0.4071 - acc: 0.8599 - val_loss: 1.3492 - val_acc: 0.6738\n",
      "Epoch 9/25\n",
      "500/500 [==============================] - 45s 89ms/step - loss: 0.3343 - acc: 0.8865 - val_loss: 0.7114 - val_acc: 0.8369\n",
      "Epoch 10/25\n",
      "500/500 [==============================] - 45s 89ms/step - loss: 0.2818 - acc: 0.9028 - val_loss: 1.0445 - val_acc: 0.7518\n",
      "Epoch 11/25\n",
      "500/500 [==============================] - 44s 89ms/step - loss: 0.2156 - acc: 0.9275 - val_loss: 0.8254 - val_acc: 0.8227\n",
      "Epoch 12/25\n",
      "500/500 [==============================] - 44s 89ms/step - loss: 0.2048 - acc: 0.9325 - val_loss: 0.6933 - val_acc: 0.8298\n",
      "Epoch 13/25\n",
      "500/500 [==============================] - 44s 89ms/step - loss: 0.1441 - acc: 0.9518 - val_loss: 0.9212 - val_acc: 0.8298\n",
      "Epoch 14/25\n",
      "500/500 [==============================] - 45s 89ms/step - loss: 0.1297 - acc: 0.9595 - val_loss: 1.0164 - val_acc: 0.8227\n",
      "Epoch 15/25\n",
      "500/500 [==============================] - 44s 89ms/step - loss: 0.0987 - acc: 0.9683 - val_loss: 0.8445 - val_acc: 0.8298\n",
      "Epoch 16/25\n",
      "500/500 [==============================] - 44s 89ms/step - loss: 0.0966 - acc: 0.9690 - val_loss: 0.8233 - val_acc: 0.8156\n",
      "Epoch 17/25\n",
      "500/500 [==============================] - 44s 89ms/step - loss: 0.0787 - acc: 0.9741 - val_loss: 1.0561 - val_acc: 0.8227\n",
      "Epoch 18/25\n",
      "500/500 [==============================] - 44s 89ms/step - loss: 0.0500 - acc: 0.9827 - val_loss: 1.3771 - val_acc: 0.7872\n",
      "Epoch 19/25\n",
      "500/500 [==============================] - 44s 89ms/step - loss: 0.0544 - acc: 0.9839 - val_loss: 1.1425 - val_acc: 0.8014\n",
      "Epoch 20/25\n",
      "500/500 [==============================] - 44s 89ms/step - loss: 0.0758 - acc: 0.9785 - val_loss: 1.1041 - val_acc: 0.8014\n",
      "Epoch 21/25\n",
      "500/500 [==============================] - 45s 89ms/step - loss: 0.0600 - acc: 0.9816 - val_loss: 0.9615 - val_acc: 0.8156\n",
      "Epoch 22/25\n",
      "500/500 [==============================] - 44s 88ms/step - loss: 0.0383 - acc: 0.9881 - val_loss: 1.3233 - val_acc: 0.8227\n",
      "Epoch 23/25\n",
      "500/500 [==============================] - 44s 89ms/step - loss: 0.0447 - acc: 0.9851 - val_loss: 1.1171 - val_acc: 0.8298\n",
      "Epoch 24/25\n",
      "500/500 [==============================] - 44s 89ms/step - loss: 0.0423 - acc: 0.9860 - val_loss: 1.0512 - val_acc: 0.8298\n",
      "Epoch 25/25\n",
      "500/500 [==============================] - 44s 89ms/step - loss: 0.0421 - acc: 0.9865 - val_loss: 0.8177 - val_acc: 0.8227\n"
     ]
    }
   ],
   "source": [
    "hist = []\n",
    "nb_epoch = 25\n",
    "for i in range(model_count):\n",
    "    hist_tmp = model_arr[i].fit_generator(datagen.flow(x_train, y_train, batch_size=16),\n",
    "                           steps_per_epoch=500,\n",
    "                           epochs=nb_epoch, #Increase this when not on Kaggle kernel\n",
    "                           verbose=1,  #1 for ETA, 0 for silent\n",
    "                           validation_data=(x_val_, y_val)\n",
    "                           ) #validation_data=(x_val_, y_val)For speed\n",
    "    hist.append(hist_tmp)"
   ]
  },
  {
   "cell_type": "code",
   "execution_count": 13,
   "metadata": {},
   "outputs": [
    {
     "name": "stdout",
     "output_type": "stream",
     "text": [
      "Final loss: 0.8177, final accuracy: 0.8227\n"
     ]
    }
   ],
   "source": [
    "final_loss, final_acc = model_arr[0].evaluate(x_val_, y_val, verbose=0)\n",
    "print(\"Final loss: {0:.4f}, final accuracy: {1:.4f}\".format(final_loss, final_acc))"
   ]
  },
  {
   "cell_type": "code",
   "execution_count": 14,
   "metadata": {},
   "outputs": [
    {
     "data": {
      "image/png": "[encoded data removed]",
      "text/plain": [
       "<Figure size 432x288 with 1 Axes>"
      ]
     },
     "metadata": {
      "needs_background": "light"
     },
     "output_type": "display_data"
    },
    {
     "data": {
      "image/png": "[encoded data removed]",
      "text/plain": [
       "<Figure size 432x288 with 1 Axes>"
      ]
     },
     "metadata": {
      "needs_background": "light"
     },
     "output_type": "display_data"
    }
   ],
   "source": [
    "plt.plot(hist[0].history['loss'], color='b')\n",
    "plt.plot(hist[0].history['val_loss'], color='r')\n",
    "plt.show()\n",
    "plt.plot(hist[0].history['acc'], color='b')\n",
    "plt.plot(hist[0].history['val_acc'], color='r')\n",
    "plt.show()"
   ]
  },
  {
   "cell_type": "code",
   "execution_count": 15,
   "metadata": {},
   "outputs": [
    {
     "name": "stdout",
     "output_type": "stream",
     "text": [
      "[[ 6  0  0  0  0  1  1  0  2  0  0  1  0]\n",
      " [ 0  8  0  1  0  0  0  0  0  1  0  0  0]\n",
      " [ 0  0 12  0  0  0  0  0  0  0  0  0  0]\n",
      " [ 0  0  0  6  0  0  0  1  0  0  1  0  0]\n",
      " [ 0  0  0  0 16  0  0  0  0  0  1  0  0]\n",
      " [ 0  0  0  0  0  5  1  0  0  1  1  0  0]\n",
      " [ 0  0  0  0  0  0 11  0  1  0  0  0  0]\n",
      " [ 0  0  1  0  0  0  0 15  0  0  0  0  0]\n",
      " [ 0  0  0  0  0  0  0  0  7  0  0  0  1]\n",
      " [ 0  5  0  1  0  0  0  0  0  6  0  0  0]\n",
      " [ 0  0  1  0  0  0  0  1  0  0 11  0  0]\n",
      " [ 0  0  0  0  0  0  0  0  0  1  0  5  0]\n",
      " [ 0  0  0  0  0  0  0  0  0  0  0  0  8]]\n"
     ]
    }
   ],
   "source": [
    "y_hat = model_arr[0].predict(x_val_)\n",
    "y_pred = np.argmax(y_hat, axis=1)\n",
    "y_true = np.argmax(y_val, axis=1)\n",
    "cm = confusion_matrix(y_true, y_pred)\n",
    "print(cm)"
   ]
  },
  {
   "cell_type": "code",
   "execution_count": 16,
   "metadata": {},
   "outputs": [],
   "source": [
    "test_data = []\n",
    "id_data = []\n",
    "dataset_path = \"./dataset/test\"\n",
    "filenames = os.listdir(dataset_path)\n",
    "filenames.sort()\n",
    "# print(filenames)\n",
    "for f in filenames:\n",
    "    image_path = dataset_path + '/'+ f\n",
    "    # Gray\n",
    "    image = cv2.imread(image_path)\n",
    "    image = cv2.resize(image, (256, 256), interpolation=cv2.INTER_CUBIC)\n",
    "    image = image.reshape(256, 256, 3)\n",
    "#     image = image.astype(\"float32\")/255.\n",
    "    id_data.append(f[0:-4])\n",
    "    test_data.append(image)\n",
    "test_data = np.array(test_data)\n",
    "# x_test = mnist_testset.astype(\"float32\")\n",
    "# x_test = x_test.reshape(-1, 200, 200, 1)/255."
   ]
  },
  {
   "cell_type": "code",
   "execution_count": 17,
   "metadata": {},
   "outputs": [
    {
     "name": "stderr",
     "output_type": "stream",
     "text": [
      "/usr/local/lib/python3.5/dist-packages/sklearn/preprocessing/label.py:151: DeprecationWarning: The truth value of an empty array is ambiguous. Returning False, but in future this will result in an error. Use `array.size > 0` to check that an array is not empty.\n",
      "  if diff:\n"
     ]
    }
   ],
   "source": [
    "y_pred_list = []\n",
    "test_data_ = preprocess_input(test_data)\n",
    "for i in range(model_count):\n",
    "    y_hat_tmp = model_arr[i].predict(test_data_, batch_size=64)\n",
    "    y_pred_tmp = le.inverse_transform(np.argmax(y_hat_tmp,axis=1))\n",
    "    y_pred_list.append(y_pred_tmp)"
   ]
  },
  {
   "cell_type": "code",
   "execution_count": 18,
   "metadata": {},
   "outputs": [],
   "source": [
    "y_pred = []\n",
    "from collections import Counter\n",
    "for i in range(len(test_data)):\n",
    "    pred = []\n",
    "    for j in range(model_count):\n",
    "        pred.append(y_pred_list[j][i])\n",
    "    pred_count = Counter(pred)\n",
    "    top_one = pred_count.most_common(1)\n",
    "    y_pred.append(top_one[0][0])"
   ]
  },
  {
   "cell_type": "code",
   "execution_count": 19,
   "metadata": {},
   "outputs": [],
   "source": [
    "import csv\n",
    "\n",
    "with open(str(model_count) + '_voting_resnet.csv', 'w', newline='') as csvfile:\n",
    "    writer = csv.writer(csvfile)\n",
    "    writer.writerow(['id', 'label'])\n",
    "    for i in range(len(y_pred)) :\n",
    "        writer.writerow([id_data[i], str(y_pred[i])])"
   ]
  }
 ],
 "metadata": {
  "kernelspec": {
   "display_name": "Python 3",
   "language": "python",
   "name": "python3"
  },
  "language_info": {
   "codemirror_mode": {
    "name": "ipython",
    "version": 3
   },
   "file_extension": ".py",
   "mimetype": "text/x-python",
   "name": "python",
   "nbconvert_exporter": "python",
   "pygments_lexer": "ipython3",
   "version": "3.5.2"
  }
 },
 "nbformat": 4,
 "nbformat_minor": 2
}
